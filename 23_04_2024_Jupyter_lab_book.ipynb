{
 "cells": [
  {
   "cell_type": "markdown",
   "id": "15a01b19-a48b-4ab1-b74d-0888658ef147",
   "metadata": {},
   "source": [
    "# Calculate Quality Factor of the system and extract resonance frequeny values for observations that cannot be seen on the graph"
   ]
  },
  {
   "cell_type": "code",
   "execution_count": 2,
   "id": "9be98c09-bfcd-4c01-bcf0-7d0ec6a82c9a",
   "metadata": {},
   "outputs": [],
   "source": [
    "import pandas as pd"
   ]
  },
  {
   "cell_type": "markdown",
   "id": "748cab46-d92a-49da-bb95-24805e5c0147",
   "metadata": {},
   "source": [
    "# Quality Factor"
   ]
  },
  {
   "cell_type": "markdown",
   "id": "f4b8c320-f817-4ee1-9dba-cb5daab0909a",
   "metadata": {},
   "source": [
    "## Without chip"
   ]
  },
  {
   "cell_type": "code",
   "execution_count": 13,
   "id": "80a8f2cb-4943-479a-87cc-c4363bea0f78",
   "metadata": {},
   "outputs": [
    {
     "name": "stdout",
     "output_type": "stream",
     "text": [
      "the resonance is 32064.47226017882 Hz\n",
      "frequencies at the 3dB threshold      Frequency [Hz]   Amplitude [dB]   Phase [deg]\n",
      "148    23851.189348              -32             0\n",
      "149    24749.948363              -32             0\n",
      "163    41540.708135              -32             0 the system is efficient in between these threshold\n",
      "Frequency bandwidth between the lower and upper 3dB threshold is 17689.51878728275\n",
      "Finally, the Quality factor = 1.8126254674169222\n",
      "the quality factor for this system in the environment is 1.5, this is a low number and does not really describe a stable sysem, but can be compared with other meduims like liquid, equally the value of the inductance and capacitance can be odified to increase the quality factor\n"
     ]
    }
   ],
   "source": [
    "#Get the resonance frequency\n",
    "data = pd.read_csv(\"18-04-2024_coil_with_no_chip_1.csv.crdownload\")\n",
    "min_amplitude_index = data[' Amplitude [dB]'].idxmin()\n",
    "min_amplitude_row = data.loc[min_amplitude_index]\n",
    "resonance_frequency = min_amplitude_row.iloc[0]\n",
    "print(f\"the resonance is {resonance_frequency} Hz\")\n",
    "#Find the 3dB bandwidth to get the range where the system is efficient\n",
    "data[' Amplitude [dB]'] = data[' Amplitude [dB]'].astype(int)\n",
    "get_3dB = data[' Amplitude [dB]'].min() + 3\n",
    "found_3dB = data[data[' Amplitude [dB]'] == get_3dB]\n",
    "if found_3dB.all:\n",
    "     print(f\"frequencies at the 3dB threshold {found_3dB} the system is efficient in between these threshold\")\n",
    "min_3dB_index = found_3dB[\"Frequency [Hz]\"].idxmin()\n",
    "max_3dB_index = found_3dB[\"Frequency [Hz]\"].idxmax()\n",
    "min_3dB_frequency = data.loc[min_3dB_index].iloc[0]\n",
    "max_3dB_frequency = data.loc[max_3dB_index].iloc[0]\n",
    "bandwidth_3dB = max_3dB_frequency - min_3dB_frequency\n",
    "print(f\"Frequency bandwidth between the lower and upper 3dB threshold is {bandwidth_3dB}\")\n",
    "Q_factor = resonance_frequency/bandwidth_3dB\n",
    "print(f\"Finally, the Quality factor = {Q_factor}\")\n",
    "print(\"the quality factor for this system in the environment is 1.5, this is a low number and does not really describe a stable sysem, but can be compared with other meduims like liquid, equally the value of the inductance and capacitance can be odified to increase the quality factor\")"
   ]
  },
  {
   "cell_type": "markdown",
   "id": "2babf98e-13c9-4dce-a0ce-36d57b4c1841",
   "metadata": {},
   "source": [
    "## With chip"
   ]
  },
  {
   "cell_type": "code",
   "execution_count": 14,
   "id": "8f8574b3-f067-4475-b30c-f3dbd05a04e2",
   "metadata": {},
   "outputs": [
    {
     "name": "stdout",
     "output_type": "stream",
     "text": [
      "the resonance is 29778.00389102912 Hz\n",
      "frequencies at the 3dB threshold      Frequency [Hz]   Amplitude [dB]   Phase [deg]\n",
      "148    23851.189348              -33             0\n",
      "160    37177.580657              -33             0 the system is efficient in between these threshold\n",
      "Frequency bandwidth between the lower and upper 3dB threshold is 13326.391308804723\n",
      "Finally, the Quality factor = 2.2345136954934564\n",
      "the quality factor for this system in the environment is 1.5, this is a low number and does not really describe a stable sysem, but can be compared with other meduims like liquid, equally the value of the inductance and capacitance can be odified to increase the quality factor\n"
     ]
    }
   ],
   "source": [
    "#Get the resonance frequency\n",
    "data1 = pd.read_csv(\"18-04-2024_coil_with_one_chip_1.csv.crdownload\")\n",
    "min_amplitude_index = data1[' Amplitude [dB]'].idxmin()\n",
    "min_amplitude_row = data1.loc[min_amplitude_index]\n",
    "resonance_frequency = min_amplitude_row.iloc[0]\n",
    "print(f\"the resonance is {resonance_frequency} Hz\")\n",
    "#Find the 3dB bandwidth to get the range where the system is efficient\n",
    "data1[' Amplitude [dB]'] = data1[' Amplitude [dB]'].astype(int)\n",
    "get_3dB = data1[' Amplitude [dB]'].min() + 3\n",
    "found_3dB = data1[data1[' Amplitude [dB]'] == get_3dB]\n",
    "if found_3dB.all:\n",
    "     print(f\"frequencies at the 3dB threshold {found_3dB} the system is efficient in between these threshold\")\n",
    "min_3dB_index = found_3dB[\"Frequency [Hz]\"].idxmin()\n",
    "max_3dB_index = found_3dB[\"Frequency [Hz]\"].idxmax()\n",
    "min_3dB_frequency = data1.loc[min_3dB_index].iloc[0]\n",
    "max_3dB_frequency = data1.loc[max_3dB_index].iloc[0]\n",
    "bandwidth_3dB = max_3dB_frequency - min_3dB_frequency\n",
    "print(f\"Frequency bandwidth between the lower and upper 3dB threshold is {bandwidth_3dB}\")\n",
    "Q_factor = resonance_frequency/bandwidth_3dB\n",
    "print(f\"Finally, the Quality factor = {Q_factor}\")\n",
    "print(\"the quality factor for this system in the environment is 1.5, this is a low number and does not really describe a stable sysem, but can be compared with other meduims like liquid, equally the value of the inductance and capacitance can be odified to increase the quality factor\")\n"
   ]
  },
  {
   "cell_type": "markdown",
   "id": "8a4edf76-2412-47a3-a555-2368804bf467",
   "metadata": {},
   "source": [
    "# First five runs of coil without chip "
   ]
  },
  {
   "cell_type": "code",
   "execution_count": 34,
   "id": "b0b9b3db-8fe4-4a36-bb0d-f0519303b292",
   "metadata": {},
   "outputs": [
    {
     "data": {
      "text/plain": [
       "[Frequency [Hz]     32064.472260\n",
       "  Amplitude [dB]      -35.606251\n",
       "  Phase [deg]           0.000000\n",
       " Name: 156, dtype: float64,\n",
       " Frequency [Hz]     32064.472260\n",
       "  Amplitude [dB]      -35.629623\n",
       "  Phase [deg]           0.000000\n",
       " Name: 156, dtype: float64,\n",
       " Frequency [Hz]     32064.472260\n",
       "  Amplitude [dB]      -35.609093\n",
       "  Phase [deg]           0.000000\n",
       " Name: 156, dtype: float64,\n",
       " Frequency [Hz]     32064.472260\n",
       "  Amplitude [dB]      -35.678783\n",
       "  Phase [deg]           0.000000\n",
       " Name: 156, dtype: float64,\n",
       " Frequency [Hz]     32064.472260\n",
       "  Amplitude [dB]      -35.683887\n",
       "  Phase [deg]           0.000000\n",
       " Name: 156, dtype: float64]"
      ]
     },
     "execution_count": 34,
     "metadata": {},
     "output_type": "execute_result"
    }
   ],
   "source": [
    "minimum_values = []\n",
    "file_names = [\"18-04-2024_coil_with_no_chip_1.csv.crdownload\", \"18-04-2024_coil_with_no_chip_2.csv.crdownload\", \"18-04-2024_coil_with_no_chip_3.csv.crdownload\", \"18-04-2024_coil_with_no_chip_4.csv.crdownload\", \"18-04-2024_coil_with_no_chip_5.csv.crdownload\"]\n",
    "for file_name in file_names:\n",
    "    data = pd.read_csv(file_name)\n",
    "    min_amplitude_index = data[' Amplitude [dB]'].idxmin()\n",
    "    min_amplitude_row = data.loc[min_amplitude_index]\n",
    "    minimum_values.append(min_amplitude_row)\n",
    "\n",
    "minimum_values\n",
    "    "
   ]
  },
  {
   "cell_type": "markdown",
   "id": "d8605001-202b-41e3-9035-942607fa0c62",
   "metadata": {},
   "source": [
    "# Second five runs of coil with one chip"
   ]
  },
  {
   "cell_type": "code",
   "execution_count": 37,
   "id": "376221c1-faeb-4c20-b70a-7addf9f68719",
   "metadata": {},
   "outputs": [
    {
     "data": {
      "text/plain": [
       "[Frequency [Hz]     29778.003891\n",
       "  Amplitude [dB]      -36.513496\n",
       "  Phase [deg]           0.000000\n",
       " Name: 154, dtype: float64,\n",
       " Frequency [Hz]     29778.003891\n",
       "  Amplitude [dB]      -36.605049\n",
       "  Phase [deg]           0.000000\n",
       " Name: 154, dtype: float64,\n",
       " Frequency [Hz]     29778.003891\n",
       "  Amplitude [dB]      -36.568336\n",
       "  Phase [deg]           0.000000\n",
       " Name: 154, dtype: float64,\n",
       " Frequency [Hz]     29778.003891\n",
       "  Amplitude [dB]      -36.567471\n",
       "  Phase [deg]           0.000000\n",
       " Name: 154, dtype: float64,\n",
       " Frequency [Hz]     29778.003891\n",
       "  Amplitude [dB]      -36.608242\n",
       "  Phase [deg]           0.000000\n",
       " Name: 154, dtype: float64]"
      ]
     },
     "execution_count": 37,
     "metadata": {},
     "output_type": "execute_result"
    }
   ],
   "source": [
    "minimum_values = []\n",
    "file_names = [\"18-04-2024_coil_with_one_chip_1.csv.crdownload\", \"18-04-2024_coil_with_one_chip_2.csv.crdownload\", \"18-04-2024_coil_with_one_chip_3.csv.crdownload\", \"18-04-2024_coil_with_one_chip_4.csv.crdownload\", \"18-04-2024_coil_with_one_chip_5.csv.crdownload\"]\n",
    "for file_name in file_names:\n",
    "    data = pd.read_csv(file_name)\n",
    "    min_amplitude_index = data[' Amplitude [dB]'].idxmin()\n",
    "    min_amplitude_row = data.loc[min_amplitude_index]\n",
    "    minimum_values.append(min_amplitude_row)\n",
    "\n",
    "minimum_values"
   ]
  },
  {
   "cell_type": "markdown",
   "id": "c4caef6e-7b80-4f44-97a6-ded35e066739",
   "metadata": {},
   "source": [
    "# Third five runs of coil with two chips"
   ]
  },
  {
   "cell_type": "code",
   "execution_count": 38,
   "id": "9eaf50e7-323f-4167-939b-0ddf27988326",
   "metadata": {},
   "outputs": [
    {
     "data": {
      "text/plain": [
       "[Frequency [Hz]     27654.580077\n",
       "  Amplitude [dB]      -36.226460\n",
       "  Phase [deg]           0.000000\n",
       " Name: 152, dtype: float64,\n",
       " Frequency [Hz]     27654.580077\n",
       "  Amplitude [dB]      -36.279305\n",
       "  Phase [deg]           0.000000\n",
       " Name: 152, dtype: float64,\n",
       " Frequency [Hz]     27654.580077\n",
       "  Amplitude [dB]      -36.268562\n",
       "  Phase [deg]           0.000000\n",
       " Name: 152, dtype: float64,\n",
       " Frequency [Hz]     28696.658222\n",
       "  Amplitude [dB]      -36.249897\n",
       "  Phase [deg]           0.000000\n",
       " Name: 153, dtype: float64,\n",
       " Frequency [Hz]     27654.580077\n",
       "  Amplitude [dB]      -36.295273\n",
       "  Phase [deg]           0.000000\n",
       " Name: 152, dtype: float64]"
      ]
     },
     "execution_count": 38,
     "metadata": {},
     "output_type": "execute_result"
    }
   ],
   "source": [
    "minimum_values = []\n",
    "file_names = [\"18-04-2024_coil_with_two_chip_1.csv.crdownload\", \"18-04-2024_coil_with_two_chip_2.csv.crdownload\", \"18-04-2024_coil_with_two_chip_3.csv.crdownload\", \"18-04-2024_coil_with_two_chip_4.csv.crdownload\", \"18-04-2024_coil_with_two_chip_5.csv.crdownload\"]\n",
    "for file_name in file_names:\n",
    "    data = pd.read_csv(file_name)\n",
    "    min_amplitude_index = data[' Amplitude [dB]'].idxmin()\n",
    "    min_amplitude_row = data.loc[min_amplitude_index]\n",
    "    minimum_values.append(min_amplitude_row)\n",
    "\n",
    "minimum_values"
   ]
  }
 ],
 "metadata": {
  "kernelspec": {
   "display_name": "Python 3 (ipykernel)",
   "language": "python",
   "name": "python3"
  },
  "language_info": {
   "codemirror_mode": {
    "name": "ipython",
    "version": 3
   },
   "file_extension": ".py",
   "mimetype": "text/x-python",
   "name": "python",
   "nbconvert_exporter": "python",
   "pygments_lexer": "ipython3",
   "version": "3.11.4"
  }
 },
 "nbformat": 4,
 "nbformat_minor": 5
}
